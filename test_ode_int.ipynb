{
 "cells": [
  {
   "cell_type": "code",
   "execution_count": 2,
   "id": "5a5b9738-a148-413a-b4c8-9b70f65982d9",
   "metadata": {},
   "outputs": [],
   "source": [
    "import numpy as np\n",
    "import matplotlib.pyplot as plt\n",
    "from scipy.integrate import odeint"
   ]
  },
  {
   "cell_type": "code",
   "execution_count": 3,
   "id": "9b2efc99-380f-462c-ada4-5ca9ecef611f",
   "metadata": {},
   "outputs": [
    {
     "data": {
      "text/plain": [
       "0.03333333333333333"
      ]
     },
     "execution_count": 3,
     "metadata": {},
     "output_type": "execute_result"
    }
   ],
   "source": [
    "1 / 30"
   ]
  },
  {
   "cell_type": "code",
   "execution_count": 10,
   "id": "1ce6cdb3-b35f-4f01-b393-a25a71cdcf91",
   "metadata": {},
   "outputs": [],
   "source": [
    "# fmt: off\n",
    "def moab_model(state, action, dt=0.0333, gravity=9.81, ball_radius=0.02, ball_shell=0.0002):\n",
    "    r = ball_radius\n",
    "    h = ball_radius - ball_shell  # hollow radius\n",
    "\n",
    "    # Ball intertia for a hollow sphere is:\n",
    "    # I = (2 / 5) * m * ((r**5 - h**5) / (r**3 - h**3))\n",
    "    # Equations for acceleration on a plate at rest\n",
    "    # a = (theta * m * g) / (m + (I / r**2))\n",
    "    # Combine the two to get the acceleration divided by theta\n",
    "    acc_div_theta = gravity / (1 + (2 / 5) * ((r**5 - h**5) / (r**3 - h**3)) / (r**2))\n",
    "\n",
    "    A = np.array([[1, 0, dt, 0], [0, 1, 0, dt], [0, 0, 1, 0], [0, 0, 0, 1]])\n",
    "    B = np.array([\n",
    "        [(1 / 2) * dt**2 * acc_div_theta, 0],\n",
    "        [0, (1 / 2) * dt**2 * acc_div_theta],\n",
    "        [dt * acc_div_theta, 0],\n",
    "        [0, dt * acc_div_theta]\n",
    "    ])\n",
    "\n",
    "    next_state = A @ state + B @ action  # x_t+1 = Ax_t + Bu_t\n",
    "    return next_state"
   ]
  },
  {
   "cell_type": "code",
   "execution_count": 35,
   "id": "9398f47e-59c0-48ae-becd-5e7e66237b3a",
   "metadata": {},
   "outputs": [],
   "source": [
    "# fmt: off\n",
    "def diff_moab_model(state, t, action, gravity, ball_radius, ball_shell):\n",
    "    h = ball_radius - ball_shell  # hollow radius\n",
    "    r = ball_radius\n",
    "\n",
    "    # Ball intertia for a hollow sphere is:\n",
    "    # I = (2 / 5) * m * ((r**5 - h**5) / (r**3 - h**3))\n",
    "    # Equations for acceleration on a plate at rest\n",
    "    # a = (theta * m * g) / (m + (I / r**2))\n",
    "    # Simplify:\n",
    "    x_dot_dot, y_dot_dot = np.asarray(action) * (gravity / (1 + (2 / 5) * ((r**5 - h**5) / (r**3 - h**3)) / (r**2)))\n",
    "    _, _, x_dot, y_dot = state\n",
    "    return np.array([x_dot, y_dot, x_dot_dot, y_dot_dot])\n",
    "\n",
    "def moab_model_ode(state, action, dt=0.0333, gravity=9.81, ball_radius=0.02, ball_shell=0.0002):\n",
    "    # diff_model = lambda s, a: diff_moab_model(s, a, gravity, ball_radius, ball_shell, diff_model)\n",
    "    t = np.linspace(0.0, dt, 2)\n",
    "    ode_result = odeint(diff_moab_model, state, t, args=(action, gravity, ball_radius, ball_shell))\n",
    "    # next_state = odeint(diff__model_ode, state, t, args=(Vm, dt))\n",
    "\n",
    "    return np.array(ode_result[1, :])"
   ]
  },
  {
   "cell_type": "code",
   "execution_count": 37,
   "id": "4379838b-72ff-401d-8579-ef6b36bd7bad",
   "metadata": {},
   "outputs": [
    {
     "name": "stdout",
     "output_type": "stream",
     "text": [
      "8.29 µs ± 48.5 ns per loop (mean ± std. dev. of 7 runs, 100000 loops each)\n"
     ]
    }
   ],
   "source": [
    "%timeit moab_model([1, 2, 2, 1], [0.2, 0.2])"
   ]
  },
  {
   "cell_type": "code",
   "execution_count": 38,
   "id": "27cf4530-ceea-4368-b0eb-ccfd957be090",
   "metadata": {},
   "outputs": [
    {
     "name": "stdout",
     "output_type": "stream",
     "text": [
      "38.1 µs ± 1.06 µs per loop (mean ± std. dev. of 7 runs, 10000 loops each)\n"
     ]
    }
   ],
   "source": [
    "%timeit moab_model_ode([1, 2, 2, 1], [0.2, 0.2])"
   ]
  },
  {
   "cell_type": "code",
   "execution_count": 68,
   "id": "0e847702-25a0-4d55-8f81-55cc343901fe",
   "metadata": {},
   "outputs": [
    {
     "data": {
      "text/plain": [
       "(array([  683.64319516, -6777.94140649,    18.46499925,   -31.1310887 ]),\n",
       " array([  683.64319517, -6777.9414065 ,    18.46499925,   -31.1310887 ]))"
      ]
     },
     "execution_count": 68,
     "metadata": {},
     "output_type": "execute_result"
    }
   ],
   "source": [
    "def mm1(state=np.random.randn(4), actions=np.random.randn(2, 50), dt=0.033):\n",
    "    n = actions.shape[1]\n",
    "    a = b = state\n",
    "    for i in range(n):\n",
    "        a = moab_model(a, actions[:, i], dt=dt)\n",
    "    return a\n",
    "\n",
    "\n",
    "def mm2(state=np.random.randn(4), actions=np.random.randn(2, 50), dt=0.033):\n",
    "    n = actions.shape[1]\n",
    "    dt = 0.033\n",
    "    a = b = state\n",
    "    for i in range(n):\n",
    "        b = moab_model_ode(b, actions[:, i], dt=dt)\n",
    "    return b\n",
    "\n",
    "\n",
    "state = np.random.randn(4)\n",
    "actions = np.random.randn(2, 10000)\n",
    "mm1(state, actions), mm2(state, actions)"
   ]
  },
  {
   "cell_type": "code",
   "execution_count": 57,
   "id": "3ecb578d-3ad8-4236-bc66-49542fffe18f",
   "metadata": {},
   "outputs": [
    {
     "name": "stdout",
     "output_type": "stream",
     "text": [
      "331 µs ± 1.23 µs per loop (mean ± std. dev. of 7 runs, 1000 loops each)\n"
     ]
    }
   ],
   "source": [
    "%timeit mm1()"
   ]
  },
  {
   "cell_type": "code",
   "execution_count": 58,
   "id": "f5580a74-9b51-4d12-bbce-56044fe5bc39",
   "metadata": {},
   "outputs": [
    {
     "name": "stdout",
     "output_type": "stream",
     "text": [
      "1.72 ms ± 9.14 µs per loop (mean ± std. dev. of 7 runs, 1000 loops each)\n"
     ]
    }
   ],
   "source": [
    "%timeit mm2()"
   ]
  },
  {
   "cell_type": "code",
   "execution_count": null,
   "id": "2e6ce2df-5362-4bf3-81b8-89cb84fffc4d",
   "metadata": {},
   "outputs": [],
   "source": []
  }
 ],
 "metadata": {
  "kernelspec": {
   "display_name": "pt",
   "language": "python",
   "name": "pt"
  },
  "language_info": {
   "codemirror_mode": {
    "name": "ipython",
    "version": 3
   },
   "file_extension": ".py",
   "mimetype": "text/x-python",
   "name": "python",
   "nbconvert_exporter": "python",
   "pygments_lexer": "ipython3",
   "version": "3.9.13"
  }
 },
 "nbformat": 4,
 "nbformat_minor": 5
}
