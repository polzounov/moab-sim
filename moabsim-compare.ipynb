{
 "cells": [
  {
   "cell_type": "code",
   "execution_count": 1,
   "id": "c7f48283-f8c6-459f-851f-0ff4719ae457",
   "metadata": {},
   "outputs": [],
   "source": [
    "import os\n",
    "import sys\n",
    "import json\n",
    "import numpy as np\n",
    "import matplotlib.pyplot as plt"
   ]
  },
  {
   "cell_type": "code",
   "execution_count": null,
   "id": "ca1f9daf-aae1-4a04-afd3-7da623ee63fd",
   "metadata": {},
   "outputs": [],
   "source": []
  },
  {
   "cell_type": "code",
   "execution_count": null,
   "id": "d80fb92d-0276-4405-879b-68d1acc9447b",
   "metadata": {},
   "outputs": [],
   "source": []
  },
  {
   "cell_type": "code",
   "execution_count": 2,
   "id": "1758164d-cbaa-4107-a191-b42956b5c885",
   "metadata": {
    "tags": []
   },
   "outputs": [],
   "source": [
    "sys.path.append(\"./moabsim-journey\")\n",
    "\n",
    "from pyrr import matrix33, vector\n",
    "from moab_model import MoabModel as MoabModelOld\n",
    "from moab_model import clamp\n",
    "\n",
    "\n",
    "class MoabSimOld:\n",
    "    def __init__(self, config):\n",
    "        self.config = config\n",
    "        self.model = MoabModelOld()\n",
    "        self._episode_count = 0\n",
    "        self.model.reset()\n",
    "\n",
    "        self.model.accel_param = lambda q, dest, vel, acc, max_vel, delta_t: (dest, vel)\n",
    "\n",
    "    # callbacks\n",
    "    def halted(self) -> bool:\n",
    "        return self.model.halted()\n",
    "\n",
    "    def get_interface(self):\n",
    "        return None\n",
    "\n",
    "    def get_state(self):\n",
    "        return self.model.state()\n",
    "\n",
    "    def _set_velocity_for_speed_and_direction(self, speed: float, direction: float):\n",
    "        # get the heading\n",
    "        dx = self.model.target_x - self.model.ball.x\n",
    "        dy = self.model.target_y - self.model.ball.y\n",
    "\n",
    "        # direction is meaningless if we're already at the target\n",
    "        if (dx != 0) or (dy != 0):\n",
    "\n",
    "            # set the magnitude\n",
    "            vel = vector.set_length([dx, dy, 0.0], speed)\n",
    "\n",
    "            # rotate by direction around Z-axis at ball position\n",
    "            rot = matrix33.create_from_axis_rotation([0.0, 0.0, 1.0], direction)\n",
    "            vel = matrix33.apply_to_vector(rot, vel)\n",
    "\n",
    "            # unpack into ball velocity\n",
    "            self.model.ball_vel.x = vel[0]\n",
    "            self.model.ball_vel.y = vel[1]\n",
    "            self.model.ball_vel.z = vel[2]\n",
    "\n",
    "    def episode_start(self, config) -> None:\n",
    "        # return to known good state to avoid accidental episode-episode dependencies\n",
    "        self.model.reset()\n",
    "\n",
    "        # initial control state. these are all [-1..1] unitless\n",
    "        self.model.roll = config.get(\"initial_roll\", self.model.roll)\n",
    "        self.model.pitch = config.get(\"initial_pitch\", self.model.pitch)\n",
    "\n",
    "        self.model.height_z = config.get(\"initial_height_z\", self.model.height_z)\n",
    "\n",
    "        # constants, SI units.\n",
    "        self.model.time_delta = config.get(\"time_delta\", self.model.time_delta)\n",
    "        self.model.jitter = config.get(\"jitter\", self.model.jitter)\n",
    "        self.model.gravity = config.get(\"gravity\", self.model.gravity)\n",
    "        self.model.plate_theta_vel_limit = config.get(\n",
    "            \"plate_theta_vel_limit\", self.model.plate_theta_vel_limit\n",
    "        )\n",
    "        self.model.plate_theta_acc = config.get(\n",
    "            \"plate_theta_acc\", self.model.plate_theta_acc\n",
    "        )\n",
    "        self.model.plate_theta_limit = config.get(\n",
    "            \"plate_theta_limit\", self.model.plate_theta_limit\n",
    "        )\n",
    "        self.model.plate_z_limit = config.get(\"plate_z_limit\", self.model.plate_z_limit)\n",
    "\n",
    "        self.model.ball_mass = config.get(\"ball_mass\", self.model.ball_mass)\n",
    "        self.model.ball_radius = config.get(\"ball_radius\", self.model.ball_radius)\n",
    "        self.model.ball_shell = config.get(\"ball_shell\", self.model.ball_shell)\n",
    "\n",
    "        self.model.obstacle_radius = config.get(\n",
    "            \"obstacle_radius\", self.model.obstacle_radius\n",
    "        )\n",
    "        self.model.obstacle_x = config.get(\"obstacle_x\", self.model.obstacle_x)\n",
    "        self.model.obstacle_y = config.get(\"obstacle_y\", self.model.obstacle_y)\n",
    "\n",
    "        # a target position the AI can try and move the ball to\n",
    "        self.model.target_x = config.get(\"target_x\", self.model.target_x)\n",
    "        self.model.target_y = config.get(\"target_y\", self.model.target_y)\n",
    "\n",
    "        # observation config\n",
    "        self.model.ball_noise = config.get(\"ball_noise\", self.model.ball_noise)\n",
    "        self.model.plate_noise = config.get(\"plate_noise\", self.model.plate_noise)\n",
    "\n",
    "        # now we can update the initial plate metrics from the constants and the controls\n",
    "        self.model.update_plate(plate_reset=True)\n",
    "\n",
    "        # initial ball state after updating plate\n",
    "        self.model.set_initial_ball(\n",
    "            config.get(\"initial_x\", self.model.ball.x),\n",
    "            config.get(\"initial_y\", self.model.ball.y),\n",
    "            config.get(\"initial_z\", self.model.ball.z),\n",
    "        )\n",
    "\n",
    "        # velocity set as a vector\n",
    "        self.model.ball_vel.x = config.get(\"initial_vel_x\", self.model.ball_vel.x)\n",
    "        self.model.ball_vel.y = config.get(\"initial_vel_y\", self.model.ball_vel.y)\n",
    "        self.model.ball_vel.z = config.get(\"initial_vel_z\", self.model.ball_vel.z)\n",
    "\n",
    "        # velocity set as a speed/direction towards target\n",
    "        initial_speed = config.get(\"initial_speed\", None)\n",
    "        initial_direction = config.get(\"initial_direction\", None)\n",
    "        if initial_speed is not None and initial_direction is not None:\n",
    "            self._set_velocity_for_speed_and_direction(initial_speed, initial_direction)\n",
    "\n",
    "        # new episode, iteration count reset\n",
    "        self.iteration_count = 0\n",
    "        self._episode_count += 1\n",
    "\n",
    "    def episode_step(self, action):\n",
    "        # use new syntax or fall back to old parameter names\n",
    "        self.model.roll = action.get(\"input_roll\", self.model.roll)\n",
    "        self.model.pitch = action.get(\"input_pitch\", self.model.pitch)\n",
    "\n",
    "        # clamp inputs to legal ranges\n",
    "        # self.model.roll = clamp(self.model.roll, -1.0, 1.0)\n",
    "        # self.model.pitch = clamp(self.model.pitch, -1.0, 1.0)\n",
    "\n",
    "        self.model.height_z = clamp(\n",
    "            action.get(\"input_height_z\", self.model.height_z), -1.0, 1.0\n",
    "        )\n",
    "\n",
    "        self.model.step()\n",
    "\n",
    "        self.iteration_count += 1\n",
    "\n",
    "    def episode_finish(self, reason: str):\n",
    "        pass\n",
    "\n",
    "\n",
    "# Remove the path again\n",
    "sys.path = sys.path[:-1]"
   ]
  },
  {
   "cell_type": "code",
   "execution_count": 3,
   "id": "a69d8e49-e188-4c77-943a-51ee5239f8d1",
   "metadata": {
    "tags": []
   },
   "outputs": [],
   "source": [
    "sys.path.append(\"./moabsim-py\")\n",
    "\n",
    "from moab_sim import MoabSim as MoabSimNew\n",
    "\n",
    "# Remove the path again\n",
    "sys.path = sys.path[:-1]"
   ]
  },
  {
   "cell_type": "code",
   "execution_count": null,
   "id": "733a131f-b3f2-463c-b3d4-20da716aa54a",
   "metadata": {
    "tags": []
   },
   "outputs": [],
   "source": []
  },
  {
   "cell_type": "code",
   "execution_count": 4,
   "id": "21ae7e60-de03-4e77-bc60-7688d31fa910",
   "metadata": {
    "tags": []
   },
   "outputs": [
    {
     "data": {
      "text/plain": [
       "array([-0.01309601,  0.00475416,  0.20589712,  0.7813396 ], dtype=float32)"
      ]
     },
     "execution_count": 4,
     "metadata": {},
     "output_type": "execute_result"
    }
   ],
   "source": [
    "sim_new = MoabSimNew()\n",
    "sim_new.reset()"
   ]
  },
  {
   "cell_type": "code",
   "execution_count": 5,
   "id": "5292b02d-066e-4d52-8814-02a9f9d32373",
   "metadata": {
    "jupyter": {
     "source_hidden": true
    },
    "tags": []
   },
   "outputs": [
    {
     "data": {
      "text/plain": [
       "array([-0.01309601,  0.00475416,  0.20589712,  0.7813396 ], dtype=float32)"
      ]
     },
     "execution_count": 5,
     "metadata": {},
     "output_type": "execute_result"
    }
   ],
   "source": [
    "sim_new.state"
   ]
  },
  {
   "cell_type": "code",
   "execution_count": 6,
   "id": "41469618-4b7a-43b6-a53a-b4209c592bf4",
   "metadata": {
    "jupyter": {
     "source_hidden": true
    },
    "tags": []
   },
   "outputs": [
    {
     "data": {
      "text/plain": [
       "array([0., 0.], dtype=float32)"
      ]
     },
     "execution_count": 6,
     "metadata": {},
     "output_type": "execute_result"
    }
   ],
   "source": [
    "sim_new.plate_angles"
   ]
  },
  {
   "cell_type": "code",
   "execution_count": 7,
   "id": "0711172d-50c1-466b-950a-b2a0e4f138d9",
   "metadata": {
    "jupyter": {
     "source_hidden": true
    },
    "tags": []
   },
   "outputs": [],
   "source": [
    "# for k, v in n.params.items():\n",
    "#     print(k, v())"
   ]
  },
  {
   "cell_type": "code",
   "execution_count": 8,
   "id": "00524ba3-a2be-4c43-a742-87a3f5af675a",
   "metadata": {
    "tags": []
   },
   "outputs": [],
   "source": [
    "init_pitch, init_roll = sim_new.plate_angles\n",
    "init_x, init_y, init_x_vel, init_y_vel = sim_new.state\n",
    "config = {\n",
    "    \"initial_pitch\": init_pitch,\n",
    "    \"initial_roll\": init_roll,\n",
    "    \"initial_height_z\": 0,\n",
    "    \"time_delta\": sim_new.params[\"dt\"](),\n",
    "    \"jitter\": 0,\n",
    "    \"gravity\": sim_new.params[\"gravity\"](),\n",
    "    \"plate_theta_vel_limit\": 0,\n",
    "    \"plate_theta_acc\": 0,\n",
    "    \"plate_theta_limit\": 0,\n",
    "    \"plate_z_limit\": 0,\n",
    "    \"ball_mass\": sim_new.params[\"ball_mass\"](),\n",
    "    \"ball_radius\": sim_new.params[\"ball_radius\"](),\n",
    "    \"ball_shell\": sim_new.params[\"ball_shell\"](),\n",
    "    \"obstacle_radius\": 0,\n",
    "    \"obstacle_x\": 0,\n",
    "    \"obstacle_y\": 0,\n",
    "    \"target_x\": 0,\n",
    "    \"target_y\": 0,\n",
    "    \"ball_noise\": 0,\n",
    "    \"plate_noise\": 0,\n",
    "    \"initial_x\": init_x,\n",
    "    \"initial_y\": init_y,\n",
    "    \"initial_z\": 0,\n",
    "    \"initial_vel_x\": init_x_vel,\n",
    "    \"initial_vel_y\": init_y_vel,\n",
    "    \"initial_vel_z\": 0,\n",
    "}\n",
    "\n",
    "sim_old = MoabSimOld(config)\n",
    "sim_old.episode_start(config)"
   ]
  },
  {
   "cell_type": "code",
   "execution_count": 9,
   "id": "ceeb65f5-ee9f-4df1-8fa7-bf2f24d04fc0",
   "metadata": {
    "tags": []
   },
   "outputs": [],
   "source": [
    "# # dir(o.model)\n",
    "# for el in dir(sim_old.model):\n",
    "#     if len(el) >= 2 and el[:2] == \"__\":\n",
    "#         pass\n",
    "#     else:\n",
    "#         print(el, sim_old.model.__getattribute__(el))"
   ]
  },
  {
   "cell_type": "code",
   "execution_count": 10,
   "id": "3d5d1422-dfe2-4b5a-9a96-6e87fb592fa8",
   "metadata": {
    "jupyter": {
     "source_hidden": true
    },
    "tags": []
   },
   "outputs": [
    {
     "ename": "NameError",
     "evalue": "name 'pid_controller' is not defined",
     "output_type": "error",
     "traceback": [
      "\u001b[0;31m---------------------------------------------------------------------------\u001b[0m",
      "\u001b[0;31mNameError\u001b[0m                                 Traceback (most recent call last)",
      "Input \u001b[0;32mIn [10]\u001b[0m, in \u001b[0;36m<cell line: 4>\u001b[0;34m()\u001b[0m\n\u001b[1;32m      1\u001b[0m n \u001b[38;5;241m=\u001b[39m \u001b[38;5;241m1000\u001b[39m\n\u001b[1;32m      2\u001b[0m hist_old \u001b[38;5;241m=\u001b[39m np\u001b[38;5;241m.\u001b[39mzeros((n, \u001b[38;5;241m6\u001b[39m))  \u001b[38;5;66;03m# x, y, x_vel, y_vel, action_pitch, action_roll\u001b[39;00m\n\u001b[0;32m----> 4\u001b[0m controller \u001b[38;5;241m=\u001b[39m \u001b[43mpid_controller\u001b[49m()\n\u001b[1;32m      5\u001b[0m x, y, x_vel, y_vel \u001b[38;5;241m=\u001b[39m init_x, init_y, init_x_vel, init_y_vel\n\u001b[1;32m      7\u001b[0m \u001b[38;5;28;01mfor\u001b[39;00m i \u001b[38;5;129;01min\u001b[39;00m \u001b[38;5;28mrange\u001b[39m(n):\n",
      "\u001b[0;31mNameError\u001b[0m: name 'pid_controller' is not defined"
     ]
    }
   ],
   "source": [
    "n = 1000\n",
    "hist_old = np.zeros((n, 6))  # x, y, x_vel, y_vel, action_pitch, action_roll\n",
    "\n",
    "controller = pid_controller()\n",
    "x, y, x_vel, y_vel = init_x, init_y, init_x_vel, init_y_vel\n",
    "\n",
    "for i in range(n):\n",
    "    pitch, roll = controller(x, y, x_vel, y_vel)\n",
    "\n",
    "    sim_old.episode_step({\"input_pitch\": pitch, \"input_roll\": roll})\n",
    "    state_dict = sim_old.get_state()\n",
    "    x, y = state_dict[\"ball_x\"], state_dict[\"ball_y\"]\n",
    "    x_vel, y_vel = state_dict[\"ball_vel_x\"], state_dict[\"ball_vel_y\"]\n",
    "\n",
    "    hist_old[i, :] = x, y, x_vel, y_vel, pitch, roll"
   ]
  },
  {
   "cell_type": "code",
   "execution_count": 11,
   "id": "4de1fb74-d5a8-409e-b319-77da4c0e7e8f",
   "metadata": {
    "tags": []
   },
   "outputs": [
    {
     "data": {
      "text/plain": [
       "array([[0., 0., 0., 0., 0., 0.],\n",
       "       [0., 0., 0., 0., 0., 0.],\n",
       "       [0., 0., 0., 0., 0., 0.],\n",
       "       ...,\n",
       "       [0., 0., 0., 0., 0., 0.],\n",
       "       [0., 0., 0., 0., 0., 0.],\n",
       "       [0., 0., 0., 0., 0., 0.]])"
      ]
     },
     "execution_count": 11,
     "metadata": {},
     "output_type": "execute_result"
    }
   ],
   "source": [
    "# state_dict\n",
    "hist_old"
   ]
  },
  {
   "cell_type": "code",
   "execution_count": 12,
   "id": "f6083e58-d6ac-4523-9788-cafcae2118da",
   "metadata": {
    "tags": []
   },
   "outputs": [
    {
     "ename": "NameError",
     "evalue": "name 'pid_controller' is not defined",
     "output_type": "error",
     "traceback": [
      "\u001b[0;31m---------------------------------------------------------------------------\u001b[0m",
      "\u001b[0;31mNameError\u001b[0m                                 Traceback (most recent call last)",
      "Input \u001b[0;32mIn [12]\u001b[0m, in \u001b[0;36m<cell line: 3>\u001b[0;34m()\u001b[0m\n\u001b[1;32m      1\u001b[0m hist_new \u001b[38;5;241m=\u001b[39m np\u001b[38;5;241m.\u001b[39mzeros((n, \u001b[38;5;241m6\u001b[39m))  \u001b[38;5;66;03m# x, y, x_vel, y_vel, action_pitch, action_roll\u001b[39;00m\n\u001b[0;32m----> 3\u001b[0m controller \u001b[38;5;241m=\u001b[39m \u001b[43mpid_controller\u001b[49m()\n\u001b[1;32m      4\u001b[0m x, y, x_vel, y_vel \u001b[38;5;241m=\u001b[39m init_x, init_y, init_x_vel, init_y_vel\n\u001b[1;32m      6\u001b[0m \u001b[38;5;28;01mfor\u001b[39;00m i \u001b[38;5;129;01min\u001b[39;00m \u001b[38;5;28mrange\u001b[39m(n):\n",
      "\u001b[0;31mNameError\u001b[0m: name 'pid_controller' is not defined"
     ]
    }
   ],
   "source": [
    "hist_new = np.zeros((n, 6))  # x, y, x_vel, y_vel, action_pitch, action_roll\n",
    "\n",
    "controller = pid_controller()\n",
    "x, y, x_vel, y_vel = init_x, init_y, init_x_vel, init_y_vel\n",
    "\n",
    "for i in range(n):\n",
    "    pitch, roll = controller(x, y, x_vel, y_vel)\n",
    "\n",
    "    x, y, x_vel, y_vel = sim_new.step([pitch, roll])  # actions_rand[i, :])\n",
    "    hist_new[i, :] = x, y, x_vel, y_vel, pitch, roll"
   ]
  },
  {
   "cell_type": "code",
   "execution_count": 13,
   "id": "cba26dcf-ee6f-4db1-bc23-58e8d599e286",
   "metadata": {},
   "outputs": [
    {
     "data": {
      "text/plain": [
       "array([[0., 0., 0., 0., 0., 0.],\n",
       "       [0., 0., 0., 0., 0., 0.],\n",
       "       [0., 0., 0., 0., 0., 0.],\n",
       "       ...,\n",
       "       [0., 0., 0., 0., 0., 0.],\n",
       "       [0., 0., 0., 0., 0., 0.],\n",
       "       [0., 0., 0., 0., 0., 0.]])"
      ]
     },
     "execution_count": 13,
     "metadata": {},
     "output_type": "execute_result"
    }
   ],
   "source": [
    "hist_new"
   ]
  },
  {
   "cell_type": "code",
   "execution_count": 14,
   "id": "2cc74a30-e92c-4522-8f2a-884c6957646c",
   "metadata": {},
   "outputs": [
    {
     "data": {
      "text/plain": [
       "[<matplotlib.lines.Line2D at 0x12626f8b0>]"
      ]
     },
     "execution_count": 14,
     "metadata": {},
     "output_type": "execute_result"
    },
    {
     "data": {
      "image/png": "[encoded data removed]",
      "text/plain": [
       "<Figure size 432x288 with 1 Axes>"
      ]
     },
     "metadata": {
      "needs_background": "light"
     },
     "output_type": "display_data"
    }
   ],
   "source": [
    "plt.plot(np.arange(n), hist_old[:, 0])\n",
    "plt.plot(np.arange(n), hist_new[:, 0])"
   ]
  },
  {
   "cell_type": "code",
   "execution_count": 15,
   "id": "9d7a5a73-8e9f-45c3-a2f4-fca033f324f3",
   "metadata": {},
   "outputs": [
    {
     "data": {
      "text/plain": [
       "[<matplotlib.lines.Line2D at 0x16010c5e0>]"
      ]
     },
     "execution_count": 15,
     "metadata": {},
     "output_type": "execute_result"
    },
    {
     "data": {
      "image/png": "[encoded data removed]",
      "text/plain": [
       "<Figure size 432x288 with 1 Axes>"
      ]
     },
     "metadata": {
      "needs_background": "light"
     },
     "output_type": "display_data"
    }
   ],
   "source": [
    "# plt.plot(np.arange(n), hist_old[:, 1])\n",
    "plt.plot(np.arange(n), hist_new[:, 1])"
   ]
  },
  {
   "cell_type": "code",
   "execution_count": null,
   "id": "19be24f4-cb3f-44b7-aca2-5f0673e9e512",
   "metadata": {},
   "outputs": [],
   "source": []
  },
  {
   "cell_type": "code",
   "execution_count": null,
   "id": "0fad00ca-a6cb-49b0-ae80-dda6933d58af",
   "metadata": {},
   "outputs": [],
   "source": []
  },
  {
   "cell_type": "code",
   "execution_count": 16,
   "id": "45d690d1-0080-48ae-998f-d3d83fcfb481",
   "metadata": {},
   "outputs": [
    {
     "data": {
      "text/plain": [
       "(0.0, 0.0, 0.0047541587)"
      ]
     },
     "execution_count": 16,
     "metadata": {},
     "output_type": "execute_result"
    }
   ],
   "source": [
    "init_pitch, init_roll = sim_new.plate_angles\n",
    "init_x, init_y, init_x_vel, init_y_vel = sim_new.state\n",
    "config = {\n",
    "    \"initial_pitch\": init_pitch,\n",
    "    \"initial_roll\": init_roll,\n",
    "    \"initial_height_z\": 0,\n",
    "    \"time_delta\": sim_new.params[\"dt\"](),\n",
    "    \"jitter\": 0,\n",
    "    \"gravity\": sim_new.params[\"gravity\"](),\n",
    "    \"plate_theta_vel_limit\": 0,\n",
    "    \"plate_theta_acc\": 0,\n",
    "    \"plate_theta_limit\": np.radians(22),\n",
    "    \"plate_z_limit\": 0,\n",
    "    \"ball_mass\": sim_new.params[\"ball_mass\"](),\n",
    "    \"ball_radius\": sim_new.params[\"ball_radius\"](),\n",
    "    \"ball_shell\": sim_new.params[\"ball_shell\"](),\n",
    "    \"obstacle_radius\": 0,\n",
    "    \"obstacle_x\": 0,\n",
    "    \"obstacle_y\": 0,\n",
    "    \"target_x\": 0,\n",
    "    \"target_y\": 0,\n",
    "    \"ball_noise\": 0,\n",
    "    \"plate_noise\": 0,\n",
    "    \"initial_x\": init_x,\n",
    "    \"initial_y\": init_y,\n",
    "    \"initial_z\": 0,\n",
    "    \"initial_vel_x\": init_x_vel,\n",
    "    \"initial_vel_y\": init_y_vel,\n",
    "    \"initial_vel_z\": 0,\n",
    "}\n",
    "\n",
    "sim_old = MoabSimOld(config)\n",
    "sim_old.episode_start(config)\n",
    "init_pitch, init_roll, init_y"
   ]
  },
  {
   "cell_type": "code",
   "execution_count": 17,
   "id": "c5b7587c-c74d-4b4b-aed0-eeed11d2f2a0",
   "metadata": {},
   "outputs": [
    {
     "name": "stdout",
     "output_type": "stream",
     "text": [
      "pitch 0.0\n",
      "roll 0.0\n",
      "plate_theta_x 0.0\n",
      "plate_theta_y 0.0\n",
      "plate_theta_vel_x 0.0\n",
      "plate_theta_vel_y 0.0\n"
     ]
    }
   ],
   "source": [
    "print(\"pitch\", sim_old.model.pitch)\n",
    "print(\"roll\", sim_old.model.roll)\n",
    "print(\"plate_theta_x\", sim_old.model.plate_theta_x)\n",
    "print(\"plate_theta_y\", sim_old.model.plate_theta_y)\n",
    "print(\"plate_theta_vel_x\", sim_old.model.plate_theta_vel_x)\n",
    "print(\"plate_theta_vel_y\", sim_old.model.plate_theta_vel_y)"
   ]
  },
  {
   "cell_type": "code",
   "execution_count": 18,
   "id": "a8854b0b-cc62-40af-9017-9ba30c0c71e7",
   "metadata": {},
   "outputs": [
    {
     "data": {
      "text/plain": [
       "(-0.013096011, 0.0047541587, 0.20589712, 0.7813396)"
      ]
     },
     "execution_count": 18,
     "metadata": {},
     "output_type": "execute_result"
    }
   ],
   "source": [
    "init_pitch, init_roll\n",
    "init_x, init_y, init_x_vel, init_y_vel"
   ]
  },
  {
   "cell_type": "code",
   "execution_count": 19,
   "id": "78b30543-bf08-40f7-baaf-a1984125cfc1",
   "metadata": {},
   "outputs": [
    {
     "name": "stdout",
     "output_type": "stream",
     "text": [
      "x=-0.006240, y=0.030773, x_vel=0.205897, y_vel=0.781340\n"
     ]
    }
   ],
   "source": [
    "sim_old.episode_step({\"input_pitch\": 0, \"input_roll\": 0})\n",
    "state_dict = sim_old.get_state()\n",
    "# print(json.dumps(state_dict, indent=2))\n",
    "\n",
    "x, y = state_dict[\"ball_x\"], state_dict[\"ball_y\"]\n",
    "x_vel, y_vel = state_dict[\"ball_vel_x\"], state_dict[\"ball_vel_y\"]\n",
    "print(f\"x={x:.6f}, y={y:.6f}, x_vel={x_vel:.6f}, y_vel={y_vel:.6f}\")"
   ]
  },
  {
   "cell_type": "code",
   "execution_count": 20,
   "id": "6dac2c43-0759-48de-8ffd-0f48261cf45e",
   "metadata": {},
   "outputs": [
    {
     "name": "stdout",
     "output_type": "stream",
     "text": [
      "pitch=-0.857282, roll=0.024231\n",
      "prev -- x=-0.006240, y=0.030773, x_vel=0.205897, y_vel=0.781340\n",
      "\n",
      "old -- x=0.000674, y=0.057878, x_vel=0.209332, y_vel=0.846596\n"
     ]
    },
    {
     "ename": "NameError",
     "evalue": "name 'moab_model_new' is not defined",
     "output_type": "error",
     "traceback": [
      "\u001b[0;31m---------------------------------------------------------------------------\u001b[0m",
      "\u001b[0;31mNameError\u001b[0m                                 Traceback (most recent call last)",
      "Input \u001b[0;32mIn [20]\u001b[0m, in \u001b[0;36m<cell line: 16>\u001b[0;34m()\u001b[0m\n\u001b[1;32m     10\u001b[0m x_vel_old, y_vel_old \u001b[38;5;241m=\u001b[39m state_dict[\u001b[38;5;124m\"\u001b[39m\u001b[38;5;124mball_vel_x\u001b[39m\u001b[38;5;124m\"\u001b[39m], state_dict[\u001b[38;5;124m\"\u001b[39m\u001b[38;5;124mball_vel_y\u001b[39m\u001b[38;5;124m\"\u001b[39m]\n\u001b[1;32m     11\u001b[0m \u001b[38;5;28mprint\u001b[39m(\n\u001b[1;32m     12\u001b[0m     \u001b[38;5;124mf\u001b[39m\u001b[38;5;124m\"\u001b[39m\u001b[38;5;124mold -- x=\u001b[39m\u001b[38;5;132;01m{\u001b[39;00mx_old\u001b[38;5;132;01m:\u001b[39;00m\u001b[38;5;124m.6f\u001b[39m\u001b[38;5;132;01m}\u001b[39;00m\u001b[38;5;124m, y=\u001b[39m\u001b[38;5;132;01m{\u001b[39;00my_old\u001b[38;5;132;01m:\u001b[39;00m\u001b[38;5;124m.6f\u001b[39m\u001b[38;5;132;01m}\u001b[39;00m\u001b[38;5;124m, x_vel=\u001b[39m\u001b[38;5;132;01m{\u001b[39;00mx_vel_old\u001b[38;5;132;01m:\u001b[39;00m\u001b[38;5;124m.6f\u001b[39m\u001b[38;5;132;01m}\u001b[39;00m\u001b[38;5;124m, y_vel=\u001b[39m\u001b[38;5;132;01m{\u001b[39;00my_vel_old\u001b[38;5;132;01m:\u001b[39;00m\u001b[38;5;124m.6f\u001b[39m\u001b[38;5;132;01m}\u001b[39;00m\u001b[38;5;124m\"\u001b[39m\n\u001b[1;32m     13\u001b[0m )\n\u001b[0;32m---> 16\u001b[0m x_new, y_new, x_vel_new, y_vel_new \u001b[38;5;241m=\u001b[39m \u001b[43mmoab_model_new\u001b[49m(\n\u001b[1;32m     17\u001b[0m     state\u001b[38;5;241m=\u001b[39mnp\u001b[38;5;241m.\u001b[39marray([x, y, x_vel, y_vel]),\n\u001b[1;32m     18\u001b[0m     action\u001b[38;5;241m=\u001b[39mnp\u001b[38;5;241m.\u001b[39marray([\u001b[38;5;241m-\u001b[39mpitch, \u001b[38;5;241m-\u001b[39mroll]),\n\u001b[1;32m     19\u001b[0m     dt\u001b[38;5;241m=\u001b[39mstate_dict[\u001b[38;5;124m\"\u001b[39m\u001b[38;5;124mtime_delta\u001b[39m\u001b[38;5;124m\"\u001b[39m],\n\u001b[1;32m     20\u001b[0m     jitter\u001b[38;5;241m=\u001b[39mstate_dict[\u001b[38;5;124m\"\u001b[39m\u001b[38;5;124mjitter\u001b[39m\u001b[38;5;124m\"\u001b[39m],\n\u001b[1;32m     21\u001b[0m     gravity\u001b[38;5;241m=\u001b[39mstate_dict[\u001b[38;5;124m\"\u001b[39m\u001b[38;5;124mgravity\u001b[39m\u001b[38;5;124m\"\u001b[39m],\n\u001b[1;32m     22\u001b[0m     ball_radius\u001b[38;5;241m=\u001b[39mstate_dict[\u001b[38;5;124m\"\u001b[39m\u001b[38;5;124mball_radius\u001b[39m\u001b[38;5;124m\"\u001b[39m],\n\u001b[1;32m     23\u001b[0m     ball_shell\u001b[38;5;241m=\u001b[39mstate_dict[\u001b[38;5;124m\"\u001b[39m\u001b[38;5;124mball_shell\u001b[39m\u001b[38;5;124m\"\u001b[39m],\n\u001b[1;32m     24\u001b[0m )\n\u001b[1;32m     25\u001b[0m \u001b[38;5;28mprint\u001b[39m(\n\u001b[1;32m     26\u001b[0m     \u001b[38;5;124mf\u001b[39m\u001b[38;5;124m\"\u001b[39m\u001b[38;5;124mnew -- x=\u001b[39m\u001b[38;5;132;01m{\u001b[39;00mx_new\u001b[38;5;132;01m:\u001b[39;00m\u001b[38;5;124m.6f\u001b[39m\u001b[38;5;132;01m}\u001b[39;00m\u001b[38;5;124m, y=\u001b[39m\u001b[38;5;132;01m{\u001b[39;00my_new\u001b[38;5;132;01m:\u001b[39;00m\u001b[38;5;124m.6f\u001b[39m\u001b[38;5;132;01m}\u001b[39;00m\u001b[38;5;124m, x_vel=\u001b[39m\u001b[38;5;132;01m{\u001b[39;00mx_vel_new\u001b[38;5;132;01m:\u001b[39;00m\u001b[38;5;124m.6f\u001b[39m\u001b[38;5;132;01m}\u001b[39;00m\u001b[38;5;124m, y_vel=\u001b[39m\u001b[38;5;132;01m{\u001b[39;00my_vel_new\u001b[38;5;132;01m:\u001b[39;00m\u001b[38;5;124m.6f\u001b[39m\u001b[38;5;132;01m}\u001b[39;00m\u001b[38;5;124m\"\u001b[39m\n\u001b[1;32m     27\u001b[0m )\n",
      "\u001b[0;31mNameError\u001b[0m: name 'moab_model_new' is not defined"
     ]
    }
   ],
   "source": [
    "pitch = np.random.uniform(-1, 1)\n",
    "roll = np.random.uniform(-1, 1)\n",
    "\n",
    "print(f\"pitch={pitch:.6f}, roll={roll:.6f}\")\n",
    "print(f\"prev -- x={x:.6f}, y={y:.6f}, x_vel={x_vel:.6f}, y_vel={y_vel:.6f}\\n\")\n",
    "\n",
    "sim_old.episode_step({\"input_pitch\": pitch, \"input_roll\": roll})\n",
    "state_dict = sim_old.get_state()\n",
    "x_old, y_old = state_dict[\"ball_x\"], state_dict[\"ball_y\"]\n",
    "x_vel_old, y_vel_old = state_dict[\"ball_vel_x\"], state_dict[\"ball_vel_y\"]\n",
    "print(\n",
    "    f\"old -- x={x_old:.6f}, y={y_old:.6f}, x_vel={x_vel_old:.6f}, y_vel={y_vel_old:.6f}\"\n",
    ")\n",
    "\n",
    "\n",
    "x_new, y_new, x_vel_new, y_vel_new = moab_model_new(\n",
    "    state=np.array([x, y, x_vel, y_vel]),\n",
    "    action=np.array([-pitch, -roll]),\n",
    "    dt=state_dict[\"time_delta\"],\n",
    "    jitter=state_dict[\"jitter\"],\n",
    "    gravity=state_dict[\"gravity\"],\n",
    "    ball_radius=state_dict[\"ball_radius\"],\n",
    "    ball_shell=state_dict[\"ball_shell\"],\n",
    ")\n",
    "print(\n",
    "    f\"new -- x={x_new:.6f}, y={y_new:.6f}, x_vel={x_vel_new:.6f}, y_vel={y_vel_new:.6f}\"\n",
    ")"
   ]
  },
  {
   "cell_type": "code",
   "execution_count": null,
   "id": "c2b80c5a-f9af-45b4-bbf6-b3d17ed80531",
   "metadata": {},
   "outputs": [],
   "source": []
  },
  {
   "cell_type": "code",
   "execution_count": 21,
   "id": "3eefec31-bf87-464a-b28f-64620db93ec8",
   "metadata": {},
   "outputs": [],
   "source": [
    "def moab_model_new(\n",
    "    state: np.ndarray,\n",
    "    action: np.ndarray,\n",
    "    dt=1 / 30,\n",
    "    jitter=0,\n",
    "    gravity=9.81,\n",
    "    ball_radius=0.02,\n",
    "    ball_shell=0.0002,\n",
    "    **kwargs\n",
    ") -> np.ndarray:\n",
    "    action = np.asarray(action) * np.radians(22)\n",
    "    # fmt: off\n",
    "    r = ball_radius\n",
    "    h = ball_radius - ball_shell  # hollow radius\n",
    "    dt += np.random.uniform(-jitter, jitter)  # add jitter to the simulation timesteps\n",
    "\n",
    "    # Ball intertia for a hollow sphere is:\n",
    "    # I = (2 / 5) * m * ((r**5 - h**5) / (r**3 - h**3))\n",
    "    # Equations for acceleration on a plate at rest\n",
    "    # a = (theta * m * g) / (m + (I / r**2))\n",
    "    # Combine the two to get the acceleration divided by theta\n",
    "    acc_div_theta = gravity / (1 + (2 / 5) * ((r**5 - h**5) / (r**3 - h**3)) / (r**2))\n",
    "\n",
    "    A = np.array([[1, 0, dt, 0], [0, 1, 0, dt], [0, 0, 1, 0], [0, 0, 0, 1]])\n",
    "    B = np.array([\n",
    "        [(1 / 2) * dt**2 * acc_div_theta, 0],\n",
    "        [0, (1 / 2) * dt**2 * acc_div_theta],\n",
    "        [dt * acc_div_theta, 0],\n",
    "        [0, dt * acc_div_theta]\n",
    "    ])\n",
    "    # fmt:on\n",
    "    next_state = A @ state + B @ action  # x_t+1 = Ax_t + Bu_t\n",
    "    return next_state"
   ]
  },
  {
   "cell_type": "code",
   "execution_count": 22,
   "id": "eccd29db-74e3-4c28-8dea-8f83945fd2d9",
   "metadata": {},
   "outputs": [],
   "source": [
    "def pid_controller(Kp=0.155, Ki=0.00103, Kd=0.930, **kwargs):\n",
    "    sum_x, sum_y = 0, 0\n",
    "\n",
    "    def next_action(x, y, vel_x, vel_y):\n",
    "        nonlocal sum_x, sum_y\n",
    "        sum_x += x\n",
    "        sum_y += y\n",
    "\n",
    "        action_x = Kp * x + Ki * sum_x + Kd * vel_x\n",
    "        action_y = Kp * y + Ki * sum_y + Kd * vel_y\n",
    "        action = np.array([-action_x, -action_y])\n",
    "\n",
    "        return action  # np.clip(action, -1, 1)\n",
    "        # pitch, roll = np.radians(action) # np.clip(action, -22, 22))\n",
    "        # return pitch, roll\n",
    "\n",
    "    return next_action"
   ]
  },
  {
   "cell_type": "code",
   "execution_count": null,
   "id": "f345e871-e186-40f4-ad4c-4da9299060d1",
   "metadata": {},
   "outputs": [],
   "source": []
  },
  {
   "cell_type": "code",
   "execution_count": null,
   "id": "2c454276-08f6-4584-b822-ff81acb7757b",
   "metadata": {},
   "outputs": [],
   "source": []
  },
  {
   "cell_type": "code",
   "execution_count": 23,
   "id": "e028e8b6-9705-4b8c-9220-6876ade36b9a",
   "metadata": {},
   "outputs": [],
   "source": [
    "sys.path.append(\"./moabsim-journey\")\n",
    "\n",
    "from moab_model import MoabModel\n",
    "\n",
    "\n",
    "def instant_accel_param(q, dest, vel, acc, max_vel, delta_t):\n",
    "    return (dest, vel)\n",
    "\n",
    "\n",
    "# Remove the path again\n",
    "sys.path = sys.path[:-1]"
   ]
  },
  {
   "cell_type": "code",
   "execution_count": null,
   "id": "e586c439-a6fb-42e1-89e6-f41175d56cd4",
   "metadata": {},
   "outputs": [],
   "source": []
  },
  {
   "cell_type": "code",
   "execution_count": null,
   "id": "9b299802-207a-40ff-882f-9531b6d81d21",
   "metadata": {},
   "outputs": [],
   "source": []
  },
  {
   "cell_type": "code",
   "execution_count": null,
   "id": "dea7d2dd-0a7e-40c4-88ca-87f70c4bf33a",
   "metadata": {},
   "outputs": [],
   "source": []
  },
  {
   "cell_type": "code",
   "execution_count": 24,
   "id": "b7f45088-e0c0-481b-8125-1645090c7bf5",
   "metadata": {},
   "outputs": [],
   "source": [
    "mm_old = MoabModel()\n",
    "mm_old.accel_param = instant_accel_param\n",
    "mm_old.reset()"
   ]
  },
  {
   "cell_type": "code",
   "execution_count": 29,
   "id": "0211b910-1040-4000-aa7c-b7abf27c77d9",
   "metadata": {},
   "outputs": [
    {
     "name": "stdout",
     "output_type": "stream",
     "text": [
      "[-0.50589284  0.38425516 -1.64351823 -0.3851933  -0.18944095 -0.72738761]\n",
      "[-1.44259810e-12  1.84069703e-13  4.79078240e-13 -7.66290934e-14\n",
      " -1.89440953e-01 -7.27387606e-01]\n",
      "\n",
      "[-0.55865047  0.37179138 -1.52193955 -0.36263341  1.6074199   0.29826954]\n",
      "[-0.58026887  0.36525059 -1.66208341 -0.45945402  1.63627692  0.37030219]\n"
     ]
    },
    {
     "data": {
      "image/png": "[encoded data removed]",
      "text/plain": [
       "<Figure size 2160x720 with 8 Axes>"
      ]
     },
     "metadata": {
      "needs_background": "light"
     },
     "output_type": "display_data"
    }
   ],
   "source": [
    "# New thingyyyyy\n",
    "n = 10000\n",
    "state_hist = np.zeros((n, 6))\n",
    "state = np.concatenate([np.random.randn(2) * 0.1125, np.random.randn(2)]) * 4\n",
    "\n",
    "controller = pid_controller()\n",
    "x, y, x_vel, y_vel = init_x, init_y, init_x_vel, init_y_vel\n",
    "\n",
    "for i in range(n):\n",
    "    pitch, roll = controller(x, y, x_vel, y_vel)\n",
    "\n",
    "    x, y, x_vel, y_vel = state = moab_model_new(state, [pitch, roll])\n",
    "    state_hist[i, :] = x, y, x_vel, y_vel, pitch, roll\n",
    "\n",
    "\n",
    "#\n",
    "#\n",
    "#\n",
    "# Old thingy\n",
    "\n",
    "state_hist_old = np.zeros((n, 6))\n",
    "state = state_hist[0, :]\n",
    "\n",
    "mm_old.ball[:2] = state[:2]\n",
    "mm_old.ball_vel[:2] = state[2:4]\n",
    "pitch, roll = state[4:6]\n",
    "# print(mm_old.ball, mm_old.ball_vel, mm_old.pitch, mm_old.roll)\n",
    "\n",
    "controller = pid_controller()\n",
    "\n",
    "for i in range(n):\n",
    "    state_hist_old[i, :] = x, y, x_vel, y_vel, pitch, roll\n",
    "\n",
    "    pitch, roll = -roll, pitch  # roll, -pitch\n",
    "    mm_old.pitch, mm_old.roll = pitch, roll\n",
    "    mm_old.step()\n",
    "\n",
    "    x, y = mm_old.ball[:2]\n",
    "    x_vel, y_vel = mm_old.ball_vel[:2]\n",
    "    pitch, roll = controller(x, y, x_vel, y_vel)\n",
    "\n",
    "\n",
    "#\n",
    "#\n",
    "#\n",
    "# Printy thingy\n",
    "print(state_hist[0, :])\n",
    "print(state_hist_old[0, :])\n",
    "print()\n",
    "print(state_hist[1, :])\n",
    "print(state_hist_old[1, :])\n",
    "\n",
    "\n",
    "#\n",
    "#\n",
    "#\n",
    "# Ploty thingy\n",
    "\n",
    "fig, axes = plt.subplots(2, 4, figsize=(30, 10))\n",
    "\n",
    "axes[0][0].plot(np.arange(n), state_hist[:, 0])\n",
    "axes[0][0].plot(np.arange(n), state_hist_old[:, 0])\n",
    "axes[0][0].set_title(\"x\")\n",
    "\n",
    "axes[0][1].plot(np.arange(n), state_hist[:, 1])\n",
    "axes[0][1].plot(np.arange(n), state_hist_old[:, 1])\n",
    "axes[0][1].set_title(\"y\")\n",
    "\n",
    "axes[0][2].plot(np.arange(n), state_hist[:, 2])\n",
    "axes[0][2].plot(np.arange(n), state_hist_old[:, 2])\n",
    "axes[0][2].set_title(\"x_vel\")\n",
    "\n",
    "axes[0][3].plot(np.arange(n), state_hist[:, 3])\n",
    "axes[0][3].plot(np.arange(n), state_hist_old[:, 3])\n",
    "axes[0][3].set_title(\"y_vel\")\n",
    "\n",
    "axes[1][0].plot(np.arange(n), state_hist[:, 4])\n",
    "# axes[1][0].plot(np.arange(n), state_hist_old[:, 4])\n",
    "axes[1][0].set_title(\"pitch\")\n",
    "\n",
    "axes[1][1].plot(np.arange(n), state_hist[:, 5])\n",
    "# axes[1][1].plot(np.arange(n), state_hist_old[:, 5])\n",
    "axes[1][1].set_title(\"roll\")\n",
    "\n",
    "plt.show()"
   ]
  },
  {
   "cell_type": "code",
   "execution_count": null,
   "id": "fa83db13-0a0d-403f-848e-2bbe83863c4b",
   "metadata": {},
   "outputs": [],
   "source": []
  },
  {
   "cell_type": "code",
   "execution_count": null,
   "id": "f54f4227-8651-41f2-b60f-99ab7bd9a8e8",
   "metadata": {},
   "outputs": [],
   "source": []
  }
 ],
 "metadata": {
  "kernelspec": {
   "display_name": "pt",
   "language": "python",
   "name": "pt"
  },
  "language_info": {
   "codemirror_mode": {
    "name": "ipython",
    "version": 3
   },
   "file_extension": ".py",
   "mimetype": "text/x-python",
   "name": "python",
   "nbconvert_exporter": "python",
   "pygments_lexer": "ipython3",
   "version": "3.9.13"
  }
 },
 "nbformat": 4,
 "nbformat_minor": 5
}
